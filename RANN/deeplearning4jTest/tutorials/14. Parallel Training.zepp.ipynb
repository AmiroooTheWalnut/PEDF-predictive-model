{
 "cells": [
  {
   "cell_type": "markdown",
   "metadata": {},
   "source": [
    "### Note\n",
    "\n",
    "Please view the [README](https://github.com/eclipse/deeplearning4j-examples/blob/master/tutorials/README.md) to learn about installing, setting up dependencies, and importing notebooks in Zeppelin"
   ]
  },
  {
   "cell_type": "markdown",
   "metadata": {},
   "source": [
    "### Background\n",
    "\n",
    "Training neural network models can be a computationally expensive task.  In order to speed up the training process, you can choose to train your models in parallel with multiple GPU's if they are installed on your machine. With deeplearning4j (DL4J), this isn't a difficult thing to do. In this tutorial we will use the MNIST dataset (dataset of handwritten images) to train a feed forward neural network in parallel with distributed GPU's. \n",
    "\n",
    "First you must update your pom.xml file if its configured to use CPU's by default. The last line of the following\n",
    "\n",
    "```\n",
    "<name>DeepLearning4j Examples Parent</name>\n",
    "<description>Examples of training different data sets</description>\n",
    "<properties>\n",
    "<nd4j.backend>nd4j-native-platform</nd4j.backend>\n",
    "```\n",
    "\n",
    "should be changed to \n",
    "\n",
    "```\n<nd4j.backend>nd4j-cuda-8.0-platform</<nd4j.backend>\n",
    "```"
   ]
  },
  {
   "cell_type": "markdown",
   "metadata": {},
   "source": [
    "### Imports"
   ]
  },
  {
   "cell_type": "code",
   "execution_count": 3,
   "metadata": {
    "autoscroll": "auto"
   },
   "outputs": [],
   "source": [
    "%spark.dep\n",
    "z.load(\"org.deeplearning4j:deeplearning4j-parallel-wrapper_2.10:0.9.1\")"
   ]
  },
  {
   "cell_type": "code",
   "execution_count": 4,
   "metadata": {
    "autoscroll": "auto"
   },
   "outputs": [],
   "source": [
    "import org.deeplearning4j.datasets.iterator.impl.MnistDataSetIterator;\n",
    "import org.deeplearning4j.eval.Evaluation;\n",
    "import org.deeplearning4j.nn.api.OptimizationAlgorithm;\n",
    "import org.deeplearning4j.nn.conf.MultiLayerConfiguration;\n",
    "import org.deeplearning4j.nn.conf.NeuralNetConfiguration;\n",
    "import org.deeplearning4j.nn.conf.Updater;\n",
    "import org.deeplearning4j.nn.conf.inputs.InputType;\n",
    "import org.deeplearning4j.nn.conf.layers.ConvolutionLayer;\n",
    "import org.deeplearning4j.nn.conf.layers.DenseLayer;\n",
    "import org.deeplearning4j.nn.conf.layers.OutputLayer;\n",
    "import org.deeplearning4j.nn.conf.layers.SubsamplingLayer;\n",
    "import org.deeplearning4j.nn.multilayer.MultiLayerNetwork;\n",
    "import org.deeplearning4j.nn.weights.WeightInit;\n",
    "import org.deeplearning4j.optimize.listeners.ScoreIterationListener;\n",
    "import org.nd4j.linalg.activations.Activation;\n",
    "import org.nd4j.linalg.api.buffer.DataBuffer;\n",
    "import org.nd4j.linalg.api.buffer.util.DataTypeUtil;\n",
    "import org.nd4j.linalg.api.ndarray.INDArray;\n",
    "import org.nd4j.linalg.dataset.DataSet;\n",
    "import org.nd4j.linalg.dataset.api.iterator.DataSetIterator;\n",
    "import org.nd4j.linalg.lossfunctions.LossFunctions;\n",
    "import org.slf4j.Logger;\n",
    "import org.slf4j.LoggerFactory;\n",
    "import org.deeplearning4j.parallelism.ParallelWrapper;"
   ]
  },
  {
   "cell_type": "markdown",
   "metadata": {},
   "source": [
    "To obtain the data, we use built-in DataSetIterators for the MNIST with a random seed of 12345. These DataSetIterators can be used to directly feed the data into a neural network."
   ]
  },
  {
   "cell_type": "code",
   "execution_count": 6,
   "metadata": {
    "autoscroll": "auto"
   },
   "outputs": [],
   "source": [
    "val batchSize = 128\n",
    "val mnistTrain = new MnistDataSetIterator(batchSize,true,12345)\n",
    "val mnistTest = new MnistDataSetIterator(batchSize,false,12345)"
   ]
  },
  {
   "cell_type": "markdown",
   "metadata": {},
   "source": [
    "Next, we set up the neural network configuration using a convolutional configuration and initialize the model. "
   ]
  },
  {
   "cell_type": "code",
   "execution_count": 8,
   "metadata": {
    "autoscroll": "auto"
   },
   "outputs": [],
   "source": [
    "val nChannels = 1\n",
    "val outputNum = 10\n",
    "val seed = 123\n",
    "\n",
    "val conf = new NeuralNetConfiguration.Builder()\n",
    "            .seed(seed)\n",
    "            .weightInit(WeightInit.XAVIER)\n",
    "            .optimizationAlgo(OptimizationAlgorithm.STOCHASTIC_GRADIENT_DESCENT)\n",
    "            .updater(Updater.NESTEROVS)\n",
    "            .list()\n",
    "            .layer(0, new ConvolutionLayer.Builder(5, 5)\n",
    "                //nIn and nOut specify depth. nIn here is the nChannels and nOut is the number of filters to be applied\n",
    "                .nIn(nChannels)\n",
    "                .stride(1, 1)\n",
    "                .nOut(20)\n",
    "                .activation(Activation.IDENTITY)\n",
    "                .build())\n",
    "            .layer(1, new SubsamplingLayer.Builder(SubsamplingLayer.PoolingType.MAX)\n",
    "                .kernelSize(2,2)\n",
    "                .stride(2,2)\n",
    "                .build())\n",
    "            .layer(2, new ConvolutionLayer.Builder(5, 5)\n",
    "                //Note that nIn need not be specified in later layers\n",
    "                .stride(1, 1)\n",
    "                .nOut(50)\n",
    "                .activation(Activation.IDENTITY)\n",
    "                .build())\n",
    "            .layer(3, new SubsamplingLayer.Builder(SubsamplingLayer.PoolingType.MAX)\n",
    "                .kernelSize(2,2)\n",
    "                .stride(2,2)\n",
    "                .build())\n",
    "            .layer(4, new DenseLayer.Builder().activation(Activation.RELU)\n",
    "                .nOut(500).build())\n",
    "            .layer(5, new OutputLayer.Builder(LossFunctions.LossFunction.NEGATIVELOGLIKELIHOOD)\n",
    "                .nOut(outputNum)\n",
    "                .activation(Activation.SOFTMAX)\n",
    "                .build())\n",
    "            .setInputType(InputType.convolutionalFlat(28,28,1)) //See note below\n",
    "            .backprop(true).pretrain(false).build()\n",
    "\n",
    "val model = new MultiLayerNetwork(conf)\n",
    "model.init()"
   ]
  },
  {
   "cell_type": "markdown",
   "metadata": {},
   "source": [
    "Next we need to configure the parallel training with the ParallelWrapper class using the MultiLayerNetwork as the input.  The ParallelWrapper will take care of load balancing between different GPUs. \n",
    "\n",
    "The notion is that the model will be duplicated within the ParallelWrapper. The prespecified number of workers (in this case 2) will then train its own model using its data. After a specified number of iterations (in this case 3), all models will be averaged and workers will receive duplicate models. The training process will then continue in this way until the model is fully trained. \n",
    "\n"
   ]
  },
  {
   "cell_type": "code",
   "execution_count": 10,
   "metadata": {
    "autoscroll": "auto"
   },
   "outputs": [],
   "source": [
    "val wrapper = new ParallelWrapper.Builder(model)\n",
    "            .prefetchBuffer(24)\n",
    "            .workers(2)\n",
    "            .averagingFrequency(3)\n",
    "            .reportScoreAfterAveraging(true)\n",
    "            .build()"
   ]
  },
  {
   "cell_type": "markdown",
   "metadata": {},
   "source": [
    "To train the model, the fit method of the ParallelWrapper is used directly on the DataSetIterator. Because the ParallelWrapper class handles all the training details behind the scenes, it is very simple to parallelize this process using dl4j."
   ]
  },
  {
   "cell_type": "code",
   "execution_count": 12,
   "metadata": {
    "autoscroll": "auto"
   },
   "outputs": [],
   "source": [
    "wrapper.fit(mnistTrain)"
   ]
  }
 ],
 "metadata": {
  "kernelspec": {
   "display_name": "Spark 2.0.0 - Scala 2.11",
   "language": "scala",
   "name": "spark2-scala"
  },
  "language_info": {
   "codemirror_mode": "text/x-scala",
   "file_extension": ".scala",
   "mimetype": "text/x-scala",
   "name": "scala",
   "pygments_lexer": "scala",
   "version": "2.11.8"
  }
 },
 "nbformat": 4,
 "nbformat_minor": 2
}
